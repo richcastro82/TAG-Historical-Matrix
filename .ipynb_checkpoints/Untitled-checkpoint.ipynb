{
 "cells": [
  {
   "cell_type": "code",
   "execution_count": 2,
   "id": "38cc1799",
   "metadata": {},
   "outputs": [
    {
     "name": "stdout",
     "output_type": "stream",
     "text": [
      "  STATE     t     r\n",
      "0    AK  0.88  0.96\n",
      "1    AL  0.92  0.86\n",
      "2    AR  0.97  0.89\n",
      "3   AZ*  1.22  1.00\n",
      "4   CA*  0.99  1.01\n"
     ]
    }
   ],
   "source": [
    "import pandas as pd\n",
    "df=pd.read_csv('data/statert.csv')\n",
    "print (df.head())"
   ]
  },
  {
   "cell_type": "code",
   "execution_count": 3,
   "id": "43165724",
   "metadata": {},
   "outputs": [
    {
     "ename": "NameError",
     "evalue": "name 'STATE' is not defined",
     "output_type": "error",
     "traceback": [
      "\u001b[0;31m---------------------------------------------------------------------------\u001b[0m",
      "\u001b[0;31mNameError\u001b[0m                                 Traceback (most recent call last)",
      "Input \u001b[0;32mIn [3]\u001b[0m, in \u001b[0;36m<cell line: 1>\u001b[0;34m()\u001b[0m\n\u001b[0;32m----> 1\u001b[0m dff\u001b[38;5;241m=\u001b[39mdf\u001b[38;5;241m.\u001b[39mset_index(\u001b[43mSTATE\u001b[49m)\n\u001b[1;32m      2\u001b[0m \u001b[38;5;28mprint\u001b[39m(dff\u001b[38;5;241m.\u001b[39mhead())\n",
      "\u001b[0;31mNameError\u001b[0m: name 'STATE' is not defined"
     ]
    }
   ],
   "source": [
    "dff=df.set_index(\"STATE\")\n",
    "print(dff.head())"
   ]
  },
  {
   "cell_type": "code",
   "execution_count": null,
   "id": "594f2cc2",
   "metadata": {},
   "outputs": [],
   "source": []
  }
 ],
 "metadata": {
  "kernelspec": {
   "display_name": "Python 3 (ipykernel)",
   "language": "python",
   "name": "python3"
  },
  "language_info": {
   "codemirror_mode": {
    "name": "ipython",
    "version": 3
   },
   "file_extension": ".py",
   "mimetype": "text/x-python",
   "name": "python",
   "nbconvert_exporter": "python",
   "pygments_lexer": "ipython3",
   "version": "3.9.12"
  }
 },
 "nbformat": 4,
 "nbformat_minor": 5
}
